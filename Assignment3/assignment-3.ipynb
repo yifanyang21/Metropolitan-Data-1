{
 "cells": [
  {
   "cell_type": "markdown",
   "metadata": {},
   "source": [
    "<header>\n",
    "        <div style=\"overflow: auto;\">\n",
    "    </div>\n",
    "    <div style=\"text-align: center;\">\n",
    "        <h1> AMS Data1 - Assignment </h1>\n",
    "        <h4> Week 1.4 &emsp; Housing</h4>\n",
    "        <h6>&copy; 2023, Group 10. Layne, Michelle, Yifan</h6>     \n",
    "    </div>\n",
    "    <br>   \n",
    "    <br>\n",
    "</header>"
   ]
  },
  {
   "cell_type": "markdown",
   "metadata": {},
   "source": [
    "## Background:\n",
    "\n",
    "Paris is hosting the Paralympics in 2024. One of the events at the Paralympics is an open water swimming event in the Seine (apparently the water is clean or so the French say). Since the City of Amsterdam thinks it is better than Paris, they want to host an event before the Paralympics, snubbing the Parisians. The idea is to host a 5km. open water swimming event through the canals of Amsterdam. You are asked by the municipality of Amsterdam to advise on the feasibility of the event from the perspective of the safety of the partaking athletes from an environmental perspective. The event is going to be hosted in May. \n",
    "For this exercise you need the data from this website. Download the Basis Bestand Gebieden Amsterdam (BBGA), both the data and the documentation. You already have the AirBnB data from Amsterdam from the workshop exercise.\n",
    "The Municipality of Amsterdam is in a love hate relationship with AirBnb, see for example this and this article. Amsterdam wants to get a bit of insight in the number of tourists that will make use of AirBnB. \n",
    "\n",
    "Can you advise on or calculate for Amsterdam:\n",
    "• What Amsterdam will receive from tourist tax if the event lasts a week and you will have 30.000 visitors?\n",
    "• Plot the amount of AirBnB locations per neighbourhood.\n",
    "• Which street in Amsterdam has the most AirBnB apartments?\n",
    "• Try to cross reference the data from the AirBnB dataset with the BBGA. Can you figure out if all apartments of AirBnB are designated as housing? Which number of apartments are not rented out all the time but are also used as normal housing?\n",
    "• How many hotel rooms should be built if Amsterdam wants to accommodate the same number of tourists?\n",
    "• How many different licenses are issued?\n",
    "Additionally, you will:\n",
    "• Add the link to your Github project in the Excel in Teams.\n",
    "• Read chapters 1, 2, 3 and 5, 6, 7 from the Think Python book."
   ]
  },
  {
   "cell_type": "markdown",
   "metadata": {},
   "source": [
    "---"
   ]
  },
  {
   "cell_type": "markdown",
   "metadata": {},
   "source": [
    "## Our Solutions:\n",
    "\n",
    "To convey a proper opinion on the feasibility of the event, our group would need data about the quality of the water in the canals and the most populous routes for water transport and canal boats. The water quality data would need to include escherichia coli (EC) and intestinal entercoocci (IE) levels because this would tell us the sewage level at the location. The water transport and canal boat data would tell us where the busiest routes are, so therefore where to most likely avoid. However, the water quality of the canals will be a priority to impacting routes. Oxygen, temperature, and turbidity are also good indicators of water quality, so data sets with this information would be helpful in conveying the feasibility.  \n",
    "\n",
    " \n",
    "\n",
    "The following table is a list of relevant data sets we found and the format they are stored in. In the table we answer the questions about file format, data type, the readability and the required python library.  "
   ]
  },
  {
   "cell_type": "markdown",
   "metadata": {},
   "source": [
    "However, we were unable to find more extensive and precise water quality testing data for the Amsterdam canals, and could only extrapolate and speculate based on data from a few monitoring points. Having such data would enable us to make more targeted recommendations."
   ]
  }
 ],
 "metadata": {
  "kernelspec": {
   "display_name": "Python 3",
   "language": "python",
   "name": "python3"
  },
  "language_info": {
   "codemirror_mode": {
    "name": "ipython",
    "version": 3
   },
   "file_extension": ".py",
   "mimetype": "text/x-python",
   "name": "python",
   "nbconvert_exporter": "python",
   "pygments_lexer": "ipython3",
   "version": "3.11.5"
  },
  "orig_nbformat": 4
 },
 "nbformat": 4,
 "nbformat_minor": 2
}
