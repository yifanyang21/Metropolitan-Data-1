{
 "cells": [
  {
   "cell_type": "markdown",
   "metadata": {},
   "source": [
    "<header>\n",
    "        <div style=\"overflow: auto;\">\n",
    "    </div>\n",
    "    <div style=\"text-align: center;\">\n",
    "        <h1> AMS Data1 - Assignment </h1>\n",
    "        <h4> Week 1.1 &emsp; Water – Paralympics</h4>\n",
    "        <h6>&copy; 2023, Group 10. Layne, Michelle, Yifan</h6>     \n",
    "    </div>\n",
    "    <br>   \n",
    "    <br>\n",
    "</header>"
   ]
  },
  {
   "cell_type": "markdown",
   "metadata": {},
   "source": [
    "## Background:\n",
    "\n",
    "Paris is hosting the Paralympics in 2024. One of the events at the Paralympics is an open water swimming event in the Seine (apparently the water is clean or so the French say). Since the City of Amsterdam thinks it is better than Paris, they want to host an event before the Paralympics, snubbing the Parisians. The idea is to host a 5km. open water swimming event through the canals of Amsterdam. You are asked by the municipality of Amsterdam to advise on the feasibility of the event from the perspective of the safety of the partaking athletes from an environmental perspective. The event is going to be hosted in May. "
   ]
  },
  {
   "cell_type": "markdown",
   "metadata": {},
   "source": [
    "---"
   ]
  },
  {
   "cell_type": "markdown",
   "metadata": {},
   "source": [
    "## Our Solutions:\n",
    "\n",
    "To convey a proper opinion on the feasibility of the event, our group would need data about the quality of the water in the canals and the most populous routes for water transport and canal boats. The water quality data would need to include escherichia coli (EC) and intestinal entercoocci (IE) levels because this would tell us the sewage level at the location. The water transport and canal boat data would tell us where the busiest routes are, so therefore where to most likely avoid. However, the water quality of the canals will be a priority to impacting routes. Oxygen, temperature, and turbidity are also good indicators of water quality, so data sets with this information would be helpful in conveying the feasibility.  \n",
    "\n",
    " \n",
    "\n",
    "The following table is a list of relevant data sets we found and the format they are stored in. In the table we answer the questions about file format, data type, the readability and the required python library.  "
   ]
  },
  {
   "cell_type": "markdown",
   "metadata": {},
   "source": [
    "<table>\n",
    "<thead>\n",
    "<tr>\n",
    "<th style=\"text-align:left\">Name</th>\n",
    "<th style=\"text-align:left\">Source/Link</th>\n",
    "<th style=\"text-align:left\">File format</th>\n",
    "<th style=\"text-align:left\">Data type</th>\n",
    "<th style=\"text-align:left\">Scale</th>\n",
    "<th style=\"text-align:left\">Python library</th>\n",
    "<th style=\"text-align:left\">Readable or not</th>\n",
    "</tr>\n",
    "</thead>\n",
    "<tbody>\n",
    "<tr>\n",
    "<td style=\"text-align:left\">Measurement results surface water quality research, 2019</td>\n",
    "<td style=\"text-align:left\">https://onderzoek.amsterdam.nl/dataset/water-in-amsterdam</td>\n",
    "<td style=\"text-align:left\">Excel file</td>\n",
    "<td style=\"text-align:left\">Numerical</td>\n",
    "<td style=\"text-align:left\">Municipal scale (Municipality of Amsterdam)</td>\n",
    "<td style=\"text-align:left\">“pandas” library, use the read_excel() function.</td>\n",
    "<td style=\"text-align:left\">Yes</td>\n",
    "</tr>\n",
    "<tr>\n",
    "<td style=\"text-align:left\">Mapping our water: water visibility</td>\n",
    "<td style=\"text-align:left\">https://www.waternet.nl/ons-water/oppervlaktewater/water-in-kaart/</td>\n",
    "<td style=\"text-align:left\">Online map</td>\n",
    "<td style=\"text-align:left\">Geodata (points, with numerical data)</td>\n",
    "<td style=\"text-align:left\">Municipal scale (Municipality of Amsterdam)</td>\n",
    "<td style=\"text-align:left\">(maybe we can use “requests” library to make HTTP requests and retrieve raw data)</td>\n",
    "<td style=\"text-align:left\">Yes</td>\n",
    "</tr>\n",
    "<tr>\n",
    "<td style=\"text-align:left\">Mapping our water: Salt</td>\n",
    "<td style=\"text-align:left\">https://www.waternet.nl/ons-water/oppervlaktewater/water-in-kaart/</td>\n",
    "<td style=\"text-align:left\">Online map</td>\n",
    "<td style=\"text-align:left\">Geodata (points, with numerical data)</td>\n",
    "<td style=\"text-align:left\">Municipal scale (Municipality of Amsterdam)</td>\n",
    "<td style=\"text-align:left\">(maybe we can use “requests” library to make HTTP requests and retrieve raw data)</td>\n",
    "<td style=\"text-align:left\">Yes</td>\n",
    "</tr>\n",
    "<tr>\n",
    "<td style=\"text-align:left\">Mapping our water: Oxygen</td>\n",
    "<td style=\"text-align:left\">https://www.waternet.nl/ons-water/oppervlaktewater/water-in-kaart/</td>\n",
    "<td style=\"text-align:left\">Online map</td>\n",
    "<td style=\"text-align:left\">Geodata (points, with numerical data)</td>\n",
    "<td style=\"text-align:left\">Municipal scale (Municipality of Amsterdam)</td>\n",
    "<td style=\"text-align:left\">(maybe we can use “requests” library to make HTTP requests and retrieve raw data)</td>\n",
    "<td style=\"text-align:left\">Yes</td>\n",
    "</tr>\n",
    "<tr>\n",
    "<td style=\"text-align:left\">zwemwater.nl</td>\n",
    "<td style=\"text-align:left\">https://www.zwemwater.nl/home</td>\n",
    "<td style=\"text-align:left\">Online map</td>\n",
    "<td style=\"text-align:left\">Geodata (points, with numerical data)</td>\n",
    "<td style=\"text-align:left\">National scale (Netherlands)</td>\n",
    "<td style=\"text-align:left\">(maybe we can use “requests” library to make HTTP requests and retrieve raw data)</td>\n",
    "<td style=\"text-align:left\">Yes</td>\n",
    "</tr>\n",
    "<tr>\n",
    "<td style=\"text-align:left\">Boarding and disembarking points & berths passenger vessels</td>\n",
    "<td style=\"text-align:left\">https://maps.amsterdam.nl/varen/</td>\n",
    "<td style=\"text-align:left\">Online map</td>\n",
    "<td style=\"text-align:left\">Geodata (points with symbolic labels)</td>\n",
    "<td style=\"text-align:left\">Municipal scale (Municipality of Amsterdam)</td>\n",
    "<td style=\"text-align:left\">(maybe we can use “requests” library to make HTTP requests and retrieve raw data)</td>\n",
    "<td style=\"text-align:left\">Yes</td>\n",
    "</tr>\n",
    "</tbody>\n",
    "</table>"
   ]
  },
  {
   "cell_type": "markdown",
   "metadata": {},
   "source": []
  }
 ],
 "metadata": {
  "kernelspec": {
   "display_name": "Python 3",
   "language": "python",
   "name": "python3"
  },
  "language_info": {
   "name": "python",
   "version": "3.11.5"
  },
  "orig_nbformat": 4
 },
 "nbformat": 4,
 "nbformat_minor": 2
}
